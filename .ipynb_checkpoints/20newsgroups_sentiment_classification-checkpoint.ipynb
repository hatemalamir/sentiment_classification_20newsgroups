{
 "cells": [
  {
   "cell_type": "code",
   "execution_count": 1,
   "metadata": {},
   "outputs": [],
   "source": [
    "import numpy as np\n",
    "import pandas as pd\n",
    "%matplotlib inline"
   ]
  },
  {
   "cell_type": "code",
   "execution_count": 2,
   "metadata": {},
   "outputs": [
    {
     "name": "stderr",
     "output_type": "stream",
     "text": [
      "Using TensorFlow backend.\n"
     ]
    }
   ],
   "source": [
    "from keras.preprocessing.sequence import pad_sequences\n",
    "from keras.preprocessing.text import Tokenizer\n",
    "from keras.utils import to_categorical"
   ]
  },
  {
   "cell_type": "code",
   "execution_count": 5,
   "metadata": {},
   "outputs": [],
   "source": [
    "train_input_dir = '../../../challenges_data/kaggle/20_newsgroups_ciphertext_challenge/20news-bydate-train/'\n",
    "eval_input_dir = '../../../challenges_data/kaggle/20_newsgroups_ciphertext_challenge/20news-bydate-test/'\n",
    "vocab_size = 10000\n",
    "max_doc_len = 1000"
   ]
  },
  {
   "cell_type": "code",
   "execution_count": 6,
   "metadata": {},
   "outputs": [],
   "source": [
    "import os\n",
    "# each folder contains documents about the same topic. We'll use folder names as classes\n",
    "class_names = {name for name in os.listdir(train_input_dir) if os.path.isdir(os.path.join(train_input_dir, name))}\n",
    "class_names |= {name for name in os.listdir(eval_input_dir) if os.path.isdir(os.path.join(eval_input_dir, name))}\n",
    "\n",
    "# map class to indexes and vice versa\n",
    "class_to_idx = {}\n",
    "idx_to_class = {}\n",
    "for i,c in enumerate(class_names):\n",
    "    class_to_idx[c] = i\n",
    "    idx_to_class[i] = c"
   ]
  },
  {
   "cell_type": "code",
   "execution_count": 7,
   "metadata": {},
   "outputs": [],
   "source": [
    "train_file_names = []    #training examples ids\n",
    "train_classes = []    #training examples classes\n",
    "\n",
    "eval_file_names = []\n",
    "eval_classes = []\n",
    "\n",
    "texts = []    # all texts"
   ]
  },
  {
   "cell_type": "code",
   "execution_count": 8,
   "metadata": {},
   "outputs": [],
   "source": [
    "# read train files\n",
    "for dirname, _, filenames in os.walk(train_input_dir):\n",
    "    for filename in filenames:\n",
    "        train_file_names.append(filename)\n",
    "        with open(os.path.join(dirname, filename), 'r', encoding='latin-1') as text_file:\n",
    "            texts.append(text_file.read())\n",
    "        dirname_tokens = dirname.split('/')\n",
    "        train_classes.append(dirname_tokens[-1])"
   ]
  },
  {
   "cell_type": "code",
   "execution_count": 9,
   "metadata": {},
   "outputs": [],
   "source": [
    "# read eval files\n",
    "for dirname, _, filenames in os.walk(eval_input_dir):\n",
    "    for filename in filenames:\n",
    "        eval_file_names.append(filename)\n",
    "        with open(os.path.join(dirname, filename), 'r', encoding='latin-1') as text_file:\n",
    "            texts.append(text_file.read())\n",
    "        dirname_tokens = dirname.split('/')\n",
    "        eval_classes.append(dirname_tokens[-1])"
   ]
  },
  {
   "cell_type": "code",
   "execution_count": 10,
   "metadata": {},
   "outputs": [],
   "source": [
    "# tokenizer is used to replace each of the 'vocab_size' most occuring  words a corresponding index\n",
    "tokenizer = Tokenizer(num_words=vocab_size)\n",
    "tokenizer.fit_on_texts(texts)"
   ]
  },
  {
   "cell_type": "code",
   "execution_count": 11,
   "metadata": {},
   "outputs": [],
   "source": [
    "train_ex = texts[:len(train_file_names)]\n",
    "eval_ex = texts[len(train_file_names):]\n",
    "\n",
    "# tokenize the text corpses into separate words\n",
    "train_ex = tokenizer.texts_to_sequences(train_ex)\n",
    "eval_ex = tokenizer.texts_to_sequences(eval_ex)\n",
    "\n",
    "# adjust the sequences to the same length\n",
    "train_X = pad_sequences(train_ex, maxlen=max_doc_len, padding='post', truncating='pre')\n",
    "eval_X = pad_sequences(eval_ex, maxlen=max_doc_len, padding='post', truncating='pre')"
   ]
  },
  {
   "cell_type": "code",
   "execution_count": 12,
   "metadata": {},
   "outputs": [],
   "source": [
    "# transform classes from text to integral indices\n",
    "train_y = list(map(lambda cl : class_to_idx[cl], train_classes))\n",
    "eval_y = list(map(lambda cl : class_to_idx[cl], eval_classes))\n",
    "\n",
    "# encode the class indices into one-hot vectors\n",
    "train_y = to_categorical(train_y)\n",
    "eval_y = to_categorical(eval_y)"
   ]
  },
  {
   "cell_type": "code",
   "execution_count": null,
   "metadata": {},
   "outputs": [],
   "source": [
    "# read and parse the GloVe file \n",
    "def read_glove_vecs(glove_file):\n",
    "    with open(glove_file, 'r') as f:\n",
    "        words = set()\n",
    "        word_to_vec_map = {}\n",
    "        for line in f:\n",
    "            line = line.strip().split()\n",
    "            curr_word = line[0]\n",
    "            words.add(curr_word)\n",
    "            word_to_vec_map[curr_word] = np.array(line[1:], dtype=np.float64)\n",
    "        \n",
    "        i = 1\n",
    "        words_to_index = {}\n",
    "        index_to_words = {}\n",
    "        for w in sorted(words):\n",
    "            words_to_index[w] = i\n",
    "            index_to_words[i] = w\n",
    "            i = i + 1\n",
    "    return words_to_index, index_to_words, word_to_vec_map"
   ]
  },
  {
   "cell_type": "code",
   "execution_count": null,
   "metadata": {},
   "outputs": [],
   "source": [
    "train_y[:10]"
   ]
  }
 ],
 "metadata": {
  "kernelspec": {
   "display_name": "Python 3",
   "language": "python",
   "name": "python3"
  },
  "language_info": {
   "codemirror_mode": {
    "name": "ipython",
    "version": 3
   },
   "file_extension": ".py",
   "mimetype": "text/x-python",
   "name": "python",
   "nbconvert_exporter": "python",
   "pygments_lexer": "ipython3",
   "version": "3.7.6"
  }
 },
 "nbformat": 4,
 "nbformat_minor": 2
}
